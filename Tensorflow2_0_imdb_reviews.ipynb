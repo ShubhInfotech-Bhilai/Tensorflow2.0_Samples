{
  "nbformat": 4,
  "nbformat_minor": 0,
  "metadata": {
    "colab": {
      "name": "Tensorflow2.0_imdb_reviews.ipynb",
      "version": "0.3.2",
      "provenance": [],
      "collapsed_sections": [],
      "include_colab_link": true
    },
    "kernelspec": {
      "name": "python3",
      "display_name": "Python 3"
    }
  },
  "cells": [
    {
      "cell_type": "markdown",
      "metadata": {
        "id": "view-in-github",
        "colab_type": "text"
      },
      "source": [
        "<a href=\"https://colab.research.google.com/github/srivatsan88/Tensorflow2.0_Samples/blob/master/Tensorflow2_0_imdb_reviews.ipynb\" target=\"_parent\"><img src=\"https://colab.research.google.com/assets/colab-badge.svg\" alt=\"Open In Colab\"/></a>"
      ]
    },
    {
      "metadata": {
        "id": "T7wZ_9ni8_YU",
        "colab_type": "code",
        "colab": {}
      },
      "cell_type": "code",
      "source": [
        "!pip install -q tf-nightly-2.0-preview"
      ],
      "execution_count": 0,
      "outputs": []
    },
    {
      "metadata": {
        "id": "vs4Lejqh9Is2",
        "colab_type": "code",
        "colab": {
          "base_uri": "https://localhost:8080/",
          "height": 34
        },
        "outputId": "e6971a25-f7e2-496c-fe40-67ad96a7f9c6"
      },
      "cell_type": "code",
      "source": [
        "import tensorflow as tf\n",
        "print(tf.__version__)"
      ],
      "execution_count": 2,
      "outputs": [
        {
          "output_type": "stream",
          "text": [
            "2.0.0-dev20190228\n"
          ],
          "name": "stdout"
        }
      ]
    },
    {
      "metadata": {
        "id": "VnmvS5mV9PE_",
        "colab_type": "code",
        "colab": {}
      },
      "cell_type": "code",
      "source": [
        "from __future__ import absolute_import, division, print_function\n",
        "import numpy as np"
      ],
      "execution_count": 0,
      "outputs": []
    },
    {
      "metadata": {
        "id": "q3nRei4F9Uwy",
        "colab_type": "code",
        "colab": {
          "base_uri": "https://localhost:8080/",
          "height": 51
        },
        "outputId": "e3e029ac-a598-4c50-a652-ae16c7869e22"
      },
      "cell_type": "code",
      "source": [
        "(train_data, train_labels), (test_data, test_labels) = tf.keras.datasets.imdb.load_data(num_words=10000)\n"
      ],
      "execution_count": 4,
      "outputs": [
        {
          "output_type": "stream",
          "text": [
            "Downloading data from https://storage.googleapis.com/tensorflow/tf-keras-datasets/imdb.npz\n",
            "17465344/17464789 [==============================] - 0s 0us/step\n"
          ],
          "name": "stdout"
        }
      ]
    },
    {
      "metadata": {
        "id": "2UydzGS89dKc",
        "colab_type": "code",
        "colab": {
          "base_uri": "https://localhost:8080/",
          "height": 34
        },
        "outputId": "f2ee8855-7e07-4a78-f213-f64f260546f8"
      },
      "cell_type": "code",
      "source": [
        "print(\"Training entries: {}, labels: {}\".format(len(train_data), len(train_labels)))"
      ],
      "execution_count": 5,
      "outputs": [
        {
          "output_type": "stream",
          "text": [
            "Training entries: 25000, labels: 25000\n"
          ],
          "name": "stdout"
        }
      ]
    },
    {
      "metadata": {
        "id": "wBQN_Zgp9q6L",
        "colab_type": "code",
        "colab": {
          "base_uri": "https://localhost:8080/",
          "height": 54
        },
        "outputId": "c5b8659b-7b19-445b-a4f0-726bb9d13985"
      },
      "cell_type": "code",
      "source": [
        "print(train_data[0])"
      ],
      "execution_count": 6,
      "outputs": [
        {
          "output_type": "stream",
          "text": [
            "[1, 14, 22, 16, 43, 530, 973, 1622, 1385, 65, 458, 4468, 66, 3941, 4, 173, 36, 256, 5, 25, 100, 43, 838, 112, 50, 670, 2, 9, 35, 480, 284, 5, 150, 4, 172, 112, 167, 2, 336, 385, 39, 4, 172, 4536, 1111, 17, 546, 38, 13, 447, 4, 192, 50, 16, 6, 147, 2025, 19, 14, 22, 4, 1920, 4613, 469, 4, 22, 71, 87, 12, 16, 43, 530, 38, 76, 15, 13, 1247, 4, 22, 17, 515, 17, 12, 16, 626, 18, 2, 5, 62, 386, 12, 8, 316, 8, 106, 5, 4, 2223, 5244, 16, 480, 66, 3785, 33, 4, 130, 12, 16, 38, 619, 5, 25, 124, 51, 36, 135, 48, 25, 1415, 33, 6, 22, 12, 215, 28, 77, 52, 5, 14, 407, 16, 82, 2, 8, 4, 107, 117, 5952, 15, 256, 4, 2, 7, 3766, 5, 723, 36, 71, 43, 530, 476, 26, 400, 317, 46, 7, 4, 2, 1029, 13, 104, 88, 4, 381, 15, 297, 98, 32, 2071, 56, 26, 141, 6, 194, 7486, 18, 4, 226, 22, 21, 134, 476, 26, 480, 5, 144, 30, 5535, 18, 51, 36, 28, 224, 92, 25, 104, 4, 226, 65, 16, 38, 1334, 88, 12, 16, 283, 5, 16, 4472, 113, 103, 32, 15, 16, 5345, 19, 178, 32]\n"
          ],
          "name": "stdout"
        }
      ]
    },
    {
      "metadata": {
        "id": "LbaAoKXa9yXf",
        "colab_type": "code",
        "colab": {
          "base_uri": "https://localhost:8080/",
          "height": 51
        },
        "outputId": "fe5b3393-b90d-4fca-fbff-14d3ad0ee1e2"
      },
      "cell_type": "code",
      "source": [
        "word_index = tf.keras.datasets.imdb.get_word_index()"
      ],
      "execution_count": 8,
      "outputs": [
        {
          "output_type": "stream",
          "text": [
            "Downloading data from https://storage.googleapis.com/tensorflow/tf-keras-datasets/imdb_word_index.json\n",
            "1646592/1641221 [==============================] - 0s 0us/step\n"
          ],
          "name": "stdout"
        }
      ]
    },
    {
      "metadata": {
        "id": "wfPbZWZ197Ck",
        "colab_type": "code",
        "colab": {}
      },
      "cell_type": "code",
      "source": [
        "word_index = {k:(v+3) for k,v in word_index.items()} \n",
        "word_index[\"<PAD>\"] = 0\n",
        "word_index[\"<START>\"] = 1\n",
        "word_index[\"<UNK>\"] = 2  # unknown\n",
        "word_index[\"<UNUSED>\"] = 3\n",
        "\n",
        "reverse_word_index = dict([(value, key) for (key, value) in word_index.items()])\n",
        "\n",
        "def decode_review(text):\n",
        "    return ' '.join([reverse_word_index.get(i, '?') for i in text])"
      ],
      "execution_count": 0,
      "outputs": []
    },
    {
      "metadata": {
        "id": "gB8jU-y7-C3W",
        "colab_type": "code",
        "colab": {
          "base_uri": "https://localhost:8080/",
          "height": 54
        },
        "outputId": "b579ce5e-7f4d-499e-e5e5-45cd4d6690b7"
      },
      "cell_type": "code",
      "source": [
        "decode_review(train_data[0])"
      ],
      "execution_count": 10,
      "outputs": [
        {
          "output_type": "execute_result",
          "data": {
            "text/plain": [
              "\"<START> this film was just brilliant casting location scenery story direction everyone's really suited the part they played and you could just imagine being there robert <UNK> is an amazing actor and now the same being director <UNK> father came from the same scottish island as myself so i loved the fact there was a real connection with this film the witty remarks throughout the film were great it was just brilliant so much that i bought the film as soon as it was released for <UNK> and would recommend it to everyone to watch and the fly fishing was amazing really cried at the end it was so sad and you know what they say if you cry at a film it must have been good and this definitely was also <UNK> to the two little boy's that played the <UNK> of norman and paul they were just brilliant children are often left out of the <UNK> list i think because the stars that play them all grown up are such a big profile for the whole film but these children are amazing and should be praised for what they have done don't you think the whole story was so lovely because it was true and was someone's life after all that was shared with us all\""
            ]
          },
          "metadata": {
            "tags": []
          },
          "execution_count": 10
        }
      ]
    },
    {
      "metadata": {
        "id": "mpJqdLCB-F8l",
        "colab_type": "code",
        "colab": {}
      },
      "cell_type": "code",
      "source": [
        "train_data = tf.keras.preprocessing.sequence.pad_sequences(train_data,\n",
        "                                                        value=word_index[\"<PAD>\"],\n",
        "                                                        padding='post',\n",
        "                                                        maxlen=256)\n",
        "\n",
        "test_data = tf.keras.preprocessing.sequence.pad_sequences(test_data,\n",
        "                                                       value=word_index[\"<PAD>\"],\n",
        "                                                       padding='post',\n",
        "                                                       maxlen=256)"
      ],
      "execution_count": 0,
      "outputs": []
    },
    {
      "metadata": {
        "id": "FZ0uReLD-laO",
        "colab_type": "code",
        "colab": {
          "base_uri": "https://localhost:8080/",
          "height": 340
        },
        "outputId": "e95c434e-2fb1-40f1-a5c7-e8ffeca26a16"
      },
      "cell_type": "code",
      "source": [
        "print(train_data[0])"
      ],
      "execution_count": 12,
      "outputs": [
        {
          "output_type": "stream",
          "text": [
            "[   1   14   22   16   43  530  973 1622 1385   65  458 4468   66 3941\n",
            "    4  173   36  256    5   25  100   43  838  112   50  670    2    9\n",
            "   35  480  284    5  150    4  172  112  167    2  336  385   39    4\n",
            "  172 4536 1111   17  546   38   13  447    4  192   50   16    6  147\n",
            " 2025   19   14   22    4 1920 4613  469    4   22   71   87   12   16\n",
            "   43  530   38   76   15   13 1247    4   22   17  515   17   12   16\n",
            "  626   18    2    5   62  386   12    8  316    8  106    5    4 2223\n",
            " 5244   16  480   66 3785   33    4  130   12   16   38  619    5   25\n",
            "  124   51   36  135   48   25 1415   33    6   22   12  215   28   77\n",
            "   52    5   14  407   16   82    2    8    4  107  117 5952   15  256\n",
            "    4    2    7 3766    5  723   36   71   43  530  476   26  400  317\n",
            "   46    7    4    2 1029   13  104   88    4  381   15  297   98   32\n",
            " 2071   56   26  141    6  194 7486   18    4  226   22   21  134  476\n",
            "   26  480    5  144   30 5535   18   51   36   28  224   92   25  104\n",
            "    4  226   65   16   38 1334   88   12   16  283    5   16 4472  113\n",
            "  103   32   15   16 5345   19  178   32    0    0    0    0    0    0\n",
            "    0    0    0    0    0    0    0    0    0    0    0    0    0    0\n",
            "    0    0    0    0    0    0    0    0    0    0    0    0    0    0\n",
            "    0    0    0    0]\n"
          ],
          "name": "stdout"
        }
      ]
    },
    {
      "metadata": {
        "id": "LfJrZYie-p5P",
        "colab_type": "code",
        "colab": {
          "base_uri": "https://localhost:8080/",
          "height": 289
        },
        "outputId": "7e243553-a7cf-4559-d7b3-0a7f2db7cfc6"
      },
      "cell_type": "code",
      "source": [
        "vocab_size = 10000\n",
        "\n",
        "model = tf.keras.Sequential()\n",
        "model.add(tf.keras.layers.Embedding(vocab_size, 16))\n",
        "model.add(tf.keras.layers.GlobalAveragePooling1D())\n",
        "model.add(tf.keras.layers.Dense(16, activation=tf.nn.relu))\n",
        "model.add(tf.keras.layers.Dense(1, activation=tf.nn.sigmoid))\n",
        "\n",
        "model.summary()"
      ],
      "execution_count": 13,
      "outputs": [
        {
          "output_type": "stream",
          "text": [
            "Model: \"sequential\"\n",
            "_________________________________________________________________\n",
            "Layer (type)                 Output Shape              Param #   \n",
            "=================================================================\n",
            "embedding (Embedding)        (None, None, 16)          160000    \n",
            "_________________________________________________________________\n",
            "global_average_pooling1d (Gl (None, 16)                0         \n",
            "_________________________________________________________________\n",
            "dense (Dense)                (None, 16)                272       \n",
            "_________________________________________________________________\n",
            "dense_1 (Dense)              (None, 1)                 17        \n",
            "=================================================================\n",
            "Total params: 160,289\n",
            "Trainable params: 160,289\n",
            "Non-trainable params: 0\n",
            "_________________________________________________________________\n"
          ],
          "name": "stdout"
        }
      ]
    },
    {
      "metadata": {
        "id": "VhE3Gwyr-5bu",
        "colab_type": "code",
        "colab": {}
      },
      "cell_type": "code",
      "source": [
        "model.compile(optimizer='adam',\n",
        "              loss='binary_crossentropy',\n",
        "              metrics=['acc'])"
      ],
      "execution_count": 0,
      "outputs": []
    },
    {
      "metadata": {
        "id": "R-rrqzBs_POv",
        "colab_type": "code",
        "colab": {}
      },
      "cell_type": "code",
      "source": [
        "x_val = train_data[:10000]\n",
        "partial_x_train = train_data[10000:]\n",
        "\n",
        "y_val = train_labels[:10000]\n",
        "partial_y_train = train_labels[10000:]"
      ],
      "execution_count": 0,
      "outputs": []
    },
    {
      "metadata": {
        "id": "BGa_0LpC_fYB",
        "colab_type": "code",
        "colab": {
          "base_uri": "https://localhost:8080/",
          "height": 1394
        },
        "outputId": "f7f7163f-61a4-498b-9860-e4ce4ed1d54d"
      },
      "cell_type": "code",
      "source": [
        "history = model.fit(partial_x_train,\n",
        "                    partial_y_train,\n",
        "                    epochs=40,\n",
        "                    batch_size=512,\n",
        "                    validation_data=(x_val, y_val),\n",
        "                    verbose=1)"
      ],
      "execution_count": 16,
      "outputs": [
        {
          "output_type": "stream",
          "text": [
            "Train on 15000 samples, validate on 10000 samples\n",
            "Epoch 1/40\n",
            "15000/15000 [==============================] - 1s 87us/sample - loss: 0.6921 - acc: 0.5830 - val_loss: 0.6905 - val_acc: 0.6488\n",
            "Epoch 2/40\n",
            "15000/15000 [==============================] - 1s 65us/sample - loss: 0.6875 - acc: 0.7121 - val_loss: 0.6838 - val_acc: 0.7386\n",
            "Epoch 3/40\n",
            "15000/15000 [==============================] - 1s 69us/sample - loss: 0.6764 - acc: 0.7481 - val_loss: 0.6691 - val_acc: 0.7399\n",
            "Epoch 4/40\n",
            "15000/15000 [==============================] - 1s 67us/sample - loss: 0.6555 - acc: 0.7563 - val_loss: 0.6445 - val_acc: 0.7410\n",
            "Epoch 5/40\n",
            "15000/15000 [==============================] - 1s 67us/sample - loss: 0.6234 - acc: 0.7814 - val_loss: 0.6104 - val_acc: 0.7711\n",
            "Epoch 6/40\n",
            "15000/15000 [==============================] - 1s 69us/sample - loss: 0.5819 - acc: 0.8055 - val_loss: 0.5698 - val_acc: 0.7989\n",
            "Epoch 7/40\n",
            "15000/15000 [==============================] - 1s 68us/sample - loss: 0.5348 - acc: 0.8245 - val_loss: 0.5250 - val_acc: 0.8160\n",
            "Epoch 8/40\n",
            "15000/15000 [==============================] - 1s 66us/sample - loss: 0.4854 - acc: 0.8419 - val_loss: 0.4813 - val_acc: 0.8289\n",
            "Epoch 9/40\n",
            "15000/15000 [==============================] - 1s 66us/sample - loss: 0.4385 - acc: 0.8583 - val_loss: 0.4420 - val_acc: 0.8425\n",
            "Epoch 10/40\n",
            "15000/15000 [==============================] - 1s 67us/sample - loss: 0.3974 - acc: 0.8709 - val_loss: 0.4099 - val_acc: 0.8502\n",
            "Epoch 11/40\n",
            "15000/15000 [==============================] - 1s 67us/sample - loss: 0.3631 - acc: 0.8801 - val_loss: 0.3838 - val_acc: 0.8589\n",
            "Epoch 12/40\n",
            "15000/15000 [==============================] - 1s 66us/sample - loss: 0.3345 - acc: 0.8889 - val_loss: 0.3638 - val_acc: 0.8617\n",
            "Epoch 13/40\n",
            "15000/15000 [==============================] - 1s 67us/sample - loss: 0.3114 - acc: 0.8947 - val_loss: 0.3468 - val_acc: 0.8682\n",
            "Epoch 14/40\n",
            "15000/15000 [==============================] - 1s 67us/sample - loss: 0.2908 - acc: 0.9004 - val_loss: 0.3343 - val_acc: 0.8724\n",
            "Epoch 15/40\n",
            "15000/15000 [==============================] - 1s 66us/sample - loss: 0.2737 - acc: 0.9051 - val_loss: 0.3243 - val_acc: 0.8734\n",
            "Epoch 16/40\n",
            "15000/15000 [==============================] - 1s 66us/sample - loss: 0.2584 - acc: 0.9102 - val_loss: 0.3158 - val_acc: 0.8749\n",
            "Epoch 17/40\n",
            "15000/15000 [==============================] - 1s 66us/sample - loss: 0.2442 - acc: 0.9142 - val_loss: 0.3088 - val_acc: 0.8772\n",
            "Epoch 18/40\n",
            "15000/15000 [==============================] - 1s 67us/sample - loss: 0.2318 - acc: 0.9199 - val_loss: 0.3030 - val_acc: 0.8812\n",
            "Epoch 19/40\n",
            "15000/15000 [==============================] - 1s 67us/sample - loss: 0.2206 - acc: 0.9224 - val_loss: 0.2980 - val_acc: 0.8810\n",
            "Epoch 20/40\n",
            "15000/15000 [==============================] - 1s 68us/sample - loss: 0.2105 - acc: 0.9255 - val_loss: 0.2945 - val_acc: 0.8816\n",
            "Epoch 21/40\n",
            "15000/15000 [==============================] - 1s 66us/sample - loss: 0.2002 - acc: 0.9321 - val_loss: 0.2916 - val_acc: 0.8823\n",
            "Epoch 22/40\n",
            "15000/15000 [==============================] - 1s 65us/sample - loss: 0.1915 - acc: 0.9351 - val_loss: 0.2895 - val_acc: 0.8838\n",
            "Epoch 23/40\n",
            "15000/15000 [==============================] - 1s 66us/sample - loss: 0.1828 - acc: 0.9393 - val_loss: 0.2885 - val_acc: 0.8834\n",
            "Epoch 24/40\n",
            "15000/15000 [==============================] - 1s 65us/sample - loss: 0.1753 - acc: 0.9431 - val_loss: 0.2867 - val_acc: 0.8840\n",
            "Epoch 25/40\n",
            "15000/15000 [==============================] - 1s 67us/sample - loss: 0.1676 - acc: 0.9465 - val_loss: 0.2857 - val_acc: 0.8841\n",
            "Epoch 26/40\n",
            "15000/15000 [==============================] - 1s 66us/sample - loss: 0.1607 - acc: 0.9489 - val_loss: 0.2864 - val_acc: 0.8838\n",
            "Epoch 27/40\n",
            "15000/15000 [==============================] - 1s 66us/sample - loss: 0.1542 - acc: 0.9513 - val_loss: 0.2860 - val_acc: 0.8840\n",
            "Epoch 28/40\n",
            "15000/15000 [==============================] - 1s 65us/sample - loss: 0.1480 - acc: 0.9538 - val_loss: 0.2863 - val_acc: 0.8851\n",
            "Epoch 29/40\n",
            "15000/15000 [==============================] - 1s 65us/sample - loss: 0.1426 - acc: 0.9571 - val_loss: 0.2886 - val_acc: 0.8831\n",
            "Epoch 30/40\n",
            "15000/15000 [==============================] - 1s 66us/sample - loss: 0.1369 - acc: 0.9588 - val_loss: 0.2879 - val_acc: 0.8860\n",
            "Epoch 31/40\n",
            "15000/15000 [==============================] - 1s 66us/sample - loss: 0.1312 - acc: 0.9611 - val_loss: 0.2892 - val_acc: 0.8862\n",
            "Epoch 32/40\n",
            "15000/15000 [==============================] - 1s 65us/sample - loss: 0.1260 - acc: 0.9639 - val_loss: 0.2909 - val_acc: 0.8862\n",
            "Epoch 33/40\n",
            "15000/15000 [==============================] - 1s 64us/sample - loss: 0.1210 - acc: 0.9657 - val_loss: 0.2934 - val_acc: 0.8844\n",
            "Epoch 34/40\n",
            "15000/15000 [==============================] - 1s 66us/sample - loss: 0.1166 - acc: 0.9667 - val_loss: 0.2952 - val_acc: 0.8857\n",
            "Epoch 35/40\n",
            "15000/15000 [==============================] - 1s 67us/sample - loss: 0.1124 - acc: 0.9676 - val_loss: 0.2986 - val_acc: 0.8848\n",
            "Epoch 36/40\n",
            "15000/15000 [==============================] - 1s 66us/sample - loss: 0.1081 - acc: 0.9703 - val_loss: 0.3003 - val_acc: 0.8845\n",
            "Epoch 37/40\n",
            "15000/15000 [==============================] - 1s 66us/sample - loss: 0.1038 - acc: 0.9711 - val_loss: 0.3028 - val_acc: 0.8839\n",
            "Epoch 38/40\n",
            "15000/15000 [==============================] - 1s 65us/sample - loss: 0.1000 - acc: 0.9727 - val_loss: 0.3066 - val_acc: 0.8833\n",
            "Epoch 39/40\n",
            "15000/15000 [==============================] - 1s 65us/sample - loss: 0.0968 - acc: 0.9737 - val_loss: 0.3101 - val_acc: 0.8821\n",
            "Epoch 40/40\n",
            "15000/15000 [==============================] - 1s 66us/sample - loss: 0.0928 - acc: 0.9758 - val_loss: 0.3124 - val_acc: 0.8825\n"
          ],
          "name": "stdout"
        }
      ]
    },
    {
      "metadata": {
        "id": "3917nHDn_mHm",
        "colab_type": "code",
        "colab": {
          "base_uri": "https://localhost:8080/",
          "height": 51
        },
        "outputId": "7df2a7e4-06bc-4195-bc40-cd3f24fedb6c"
      },
      "cell_type": "code",
      "source": [
        "results = model.evaluate(test_data, test_labels)\n",
        "\n",
        "print(results)"
      ],
      "execution_count": 17,
      "outputs": [
        {
          "output_type": "stream",
          "text": [
            "25000/25000 [==============================] - 1s 52us/sample - loss: 0.3331 - acc: 0.8718\n",
            "[0.33305783428192137, 0.87184]\n"
          ],
          "name": "stdout"
        }
      ]
    },
    {
      "metadata": {
        "id": "WcZ_NNlyAGzR",
        "colab_type": "code",
        "colab": {
          "base_uri": "https://localhost:8080/",
          "height": 34
        },
        "outputId": "685b48c3-6365-4713-8743-ce273b3008b1"
      },
      "cell_type": "code",
      "source": [
        "history_dict = history.history\n",
        "history_dict.keys()"
      ],
      "execution_count": 18,
      "outputs": [
        {
          "output_type": "execute_result",
          "data": {
            "text/plain": [
              "dict_keys(['loss', 'acc', 'val_loss', 'val_acc'])"
            ]
          },
          "metadata": {
            "tags": []
          },
          "execution_count": 18
        }
      ]
    },
    {
      "metadata": {
        "id": "oArin4F-AMk6",
        "colab_type": "code",
        "colab": {
          "base_uri": "https://localhost:8080/",
          "height": 376
        },
        "outputId": "6e373777-9a93-4191-8477-ec1234e0c623"
      },
      "cell_type": "code",
      "source": [
        "import matplotlib.pyplot as plt\n",
        "\n",
        "acc = history_dict['acc']\n",
        "val_acc = history_dict['val_acc']\n",
        "loss = history_dict['loss']\n",
        "val_loss = history_dict['val_loss']\n",
        "\n",
        "epochs = range(1, len(acc) + 1)\n",
        "\n",
        "# \"bo\" is for \"blue dot\"\n",
        "plt.plot(epochs, loss, 'bo', label='Training loss')\n",
        "# b is for \"solid blue line\"\n",
        "plt.plot(epochs, val_loss, 'b', label='Validation loss')\n",
        "plt.title('Training and validation loss')\n",
        "plt.xlabel('Epochs')\n",
        "plt.ylabel('Loss')\n",
        "plt.legend()\n",
        "\n",
        "plt.show()"
      ],
      "execution_count": 19,
      "outputs": [
        {
          "output_type": "display_data",
          "data": {
            "image/png": "[encoded data removed]",
            "text/plain": [
              "<Figure size 576x396 with 1 Axes>"
            ]
          },
          "metadata": {
            "tags": []
          }
        }
      ]
    },
    {
      "metadata": {
        "id": "6sHe5-nYASX7",
        "colab_type": "code",
        "colab": {
          "base_uri": "https://localhost:8080/",
          "height": 376
        },
        "outputId": "4643345d-46d9-4a11-dde3-d8655e2980a7"
      },
      "cell_type": "code",
      "source": [
        "plt.clf()   # clear figure\n",
        "\n",
        "plt.plot(epochs, acc, 'bo', label='Training acc')\n",
        "plt.plot(epochs, val_acc, 'b', label='Validation acc')\n",
        "plt.title('Training and validation accuracy')\n",
        "plt.xlabel('Epochs')\n",
        "plt.ylabel('Accuracy')\n",
        "plt.legend()\n",
        "\n",
        "plt.show()"
      ],
      "execution_count": 20,
      "outputs": [
        {
          "output_type": "display_data",
          "data": {
            "image/png": "[encoded data removed]",
            "text/plain": [
              "<Figure size 576x396 with 1 Axes>"
            ]
          },
          "metadata": {
            "tags": []
          }
        }
      ]
    },
    {
      "metadata": {
        "id": "L940oPOxAaa-",
        "colab_type": "code",
        "colab": {}
      },
      "cell_type": "code",
      "source": [
        ""
      ],
      "execution_count": 0,
      "outputs": []
    }
  ]
}