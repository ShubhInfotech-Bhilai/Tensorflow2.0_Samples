{
  "nbformat": 4,
  "nbformat_minor": 0,
  "metadata": {
    "colab": {
      "name": "TF20_MINST_Simple.ipynb",
      "version": "0.3.2",
      "provenance": [],
      "collapsed_sections": []
    },
    "kernelspec": {
      "name": "python3",
      "display_name": "Python 3"
    }
  },
  "cells": [
    {
      "metadata": {
        "id": "y6vHPvAvt0xl",
        "colab_type": "code",
        "outputId": "e4ff41ca-41b7-484d-a798-5e6fc66d6af9",
        "colab": {
          "base_uri": "https://localhost:8080/",
          "height": 85
        }
      },
      "cell_type": "code",
      "source": [
        "!pip install -q tf-nightly-2.0-preview"
      ],
      "execution_count": 3,
      "outputs": [
        {
          "output_type": "stream",
          "text": [
            "\u001b[K    100% |████████████████████████████████| 79.8MB 259kB/s \n",
            "\u001b[K    100% |████████████████████████████████| 3.0MB 1.3MB/s \n",
            "\u001b[K    100% |████████████████████████████████| 348kB 19.4MB/s \n",
            "\u001b[K    100% |████████████████████████████████| 61kB 22.2MB/s \n",
            "\u001b[?25h"
          ],
          "name": "stdout"
        }
      ]
    },
    {
      "metadata": {
        "id": "SDe3DA7FuhiN",
        "colab_type": "code",
        "colab": {}
      },
      "cell_type": "code",
      "source": [
        "import tensorflow as tf"
      ],
      "execution_count": 0,
      "outputs": []
    },
    {
      "metadata": {
        "id": "rXWGTOLnujDA",
        "colab_type": "code",
        "outputId": "7ccbd7c2-f7bd-46c3-cdb2-35e96ec1c79c",
        "colab": {
          "base_uri": "https://localhost:8080/",
          "height": 34
        }
      },
      "cell_type": "code",
      "source": [
        "print(tf.__version__)"
      ],
      "execution_count": 2,
      "outputs": [
        {
          "output_type": "stream",
          "text": [
            "2.0.0-dev20190228\n"
          ],
          "name": "stdout"
        }
      ]
    },
    {
      "metadata": {
        "id": "xndbFNjLuneo",
        "colab_type": "code",
        "outputId": "5d752818-2a82-4062-a9ae-24cdfcc65a8e",
        "colab": {
          "base_uri": "https://localhost:8080/",
          "height": 51
        }
      },
      "cell_type": "code",
      "source": [
        "(x_train, y_train),(x_test, y_test) = tf.keras.datasets.mnist.load_data()\n",
        "x_train, x_test = x_train / 255.0, x_test / 255.0"
      ],
      "execution_count": 3,
      "outputs": [
        {
          "output_type": "stream",
          "text": [
            "Downloading data from https://storage.googleapis.com/tensorflow/tf-keras-datasets/mnist.npz\n",
            "11493376/11490434 [==============================] - 0s 0us/step\n"
          ],
          "name": "stdout"
        }
      ]
    },
    {
      "metadata": {
        "id": "iNEQdue0vEi4",
        "colab_type": "code",
        "colab": {}
      },
      "cell_type": "code",
      "source": [
        "model = tf.keras.models.Sequential([\n",
        "  tf.keras.layers.Flatten(input_shape=(28, 28)),\n",
        "  tf.keras.layers.Dense(512, activation=tf.nn.relu),\n",
        "  tf.keras.layers.Dropout(0.2),\n",
        "  tf.keras.layers.Dense(10, activation=tf.nn.softmax)\n",
        "])"
      ],
      "execution_count": 0,
      "outputs": []
    },
    {
      "metadata": {
        "id": "hiiXjyttxMkT",
        "colab_type": "code",
        "colab": {}
      },
      "cell_type": "code",
      "source": [
        "model.compile(optimizer='adam',\n",
        "              loss='sparse_categorical_crossentropy',\n",
        "              metrics=['accuracy'])"
      ],
      "execution_count": 0,
      "outputs": []
    },
    {
      "metadata": {
        "id": "oJqTnjzJxXIS",
        "colab_type": "code",
        "colab": {
          "base_uri": "https://localhost:8080/",
          "height": 714
        },
        "outputId": "61e64937-6d53-4414-f6b0-86b23a4b92a2"
      },
      "cell_type": "code",
      "source": [
        "model.fit(x_train, y_train, epochs=20)"
      ],
      "execution_count": 6,
      "outputs": [
        {
          "output_type": "stream",
          "text": [
            "Epoch 1/20\n",
            "60000/60000 [==============================] - 12s 200us/sample - loss: 0.2218 - accuracy: 0.9352\n",
            "Epoch 2/20\n",
            "60000/60000 [==============================] - 12s 196us/sample - loss: 0.0974 - accuracy: 0.9711\n",
            "Epoch 3/20\n",
            "60000/60000 [==============================] - 12s 202us/sample - loss: 0.0689 - accuracy: 0.9788\n",
            "Epoch 4/20\n",
            "60000/60000 [==============================] - 11s 183us/sample - loss: 0.0536 - accuracy: 0.9827\n",
            "Epoch 5/20\n",
            "60000/60000 [==============================] - 11s 189us/sample - loss: 0.0447 - accuracy: 0.9848\n",
            "Epoch 6/20\n",
            "60000/60000 [==============================] - 11s 185us/sample - loss: 0.0359 - accuracy: 0.9879\n",
            "Epoch 7/20\n",
            "60000/60000 [==============================] - 11s 189us/sample - loss: 0.0308 - accuracy: 0.9903\n",
            "Epoch 8/20\n",
            "60000/60000 [==============================] - 11s 189us/sample - loss: 0.0263 - accuracy: 0.9912\n",
            "Epoch 9/20\n",
            "60000/60000 [==============================] - 11s 189us/sample - loss: 0.0249 - accuracy: 0.9919\n",
            "Epoch 10/20\n",
            "60000/60000 [==============================] - 11s 191us/sample - loss: 0.0217 - accuracy: 0.9924\n",
            "Epoch 11/20\n",
            "60000/60000 [==============================] - 11s 188us/sample - loss: 0.0217 - accuracy: 0.9928\n",
            "Epoch 12/20\n",
            "60000/60000 [==============================] - 11s 186us/sample - loss: 0.0175 - accuracy: 0.9940\n",
            "Epoch 13/20\n",
            "60000/60000 [==============================] - 11s 190us/sample - loss: 0.0183 - accuracy: 0.9937\n",
            "Epoch 14/20\n",
            "60000/60000 [==============================] - 11s 189us/sample - loss: 0.0174 - accuracy: 0.9941\n",
            "Epoch 15/20\n",
            "60000/60000 [==============================] - 11s 186us/sample - loss: 0.0143 - accuracy: 0.9948\n",
            "Epoch 16/20\n",
            "60000/60000 [==============================] - 11s 188us/sample - loss: 0.0177 - accuracy: 0.9941\n",
            "Epoch 17/20\n",
            "60000/60000 [==============================] - 11s 190us/sample - loss: 0.0135 - accuracy: 0.9953\n",
            "Epoch 18/20\n",
            "60000/60000 [==============================] - 11s 190us/sample - loss: 0.0135 - accuracy: 0.9958\n",
            "Epoch 19/20\n",
            "60000/60000 [==============================] - 12s 192us/sample - loss: 0.0147 - accuracy: 0.9952\n",
            "Epoch 20/20\n",
            "60000/60000 [==============================] - 11s 190us/sample - loss: 0.0126 - accuracy: 0.9958\n"
          ],
          "name": "stdout"
        },
        {
          "output_type": "execute_result",
          "data": {
            "text/plain": [
              "<tensorflow.python.keras.callbacks.History at 0x7f2b9d71b390>"
            ]
          },
          "metadata": {
            "tags": []
          },
          "execution_count": 6
        }
      ]
    },
    {
      "metadata": {
        "id": "YDO8xFwgfy2L",
        "colab_type": "code",
        "colab": {
          "base_uri": "https://localhost:8080/",
          "height": 51
        },
        "outputId": "c1a686ba-1ca0-4502-eece-fe9b4293fe5f"
      },
      "cell_type": "code",
      "source": [
        "model.evaluate(x_test, y_test)"
      ],
      "execution_count": 7,
      "outputs": [
        {
          "output_type": "stream",
          "text": [
            "10000/10000 [==============================] - 1s 84us/sample - loss: 0.0969 - accuracy: 0.9828\n"
          ],
          "name": "stdout"
        },
        {
          "output_type": "execute_result",
          "data": {
            "text/plain": [
              "[0.09693803805307319, 0.9828]"
            ]
          },
          "metadata": {
            "tags": []
          },
          "execution_count": 7
        }
      ]
    }
  ]
}